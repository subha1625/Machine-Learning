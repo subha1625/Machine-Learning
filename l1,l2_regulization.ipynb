{
  "nbformat": 4,
  "nbformat_minor": 0,
  "metadata": {
    "colab": {
      "provenance": [],
      "authorship_tag": "ABX9TyOVo698wrMhaip0g5sbU4CJ",
      "include_colab_link": true
    },
    "kernelspec": {
      "name": "python3",
      "display_name": "Python 3"
    },
    "language_info": {
      "name": "python"
    }
  },
  "cells": [
    {
      "cell_type": "markdown",
      "metadata": {
        "id": "view-in-github",
        "colab_type": "text"
      },
      "source": [
        "<a href=\"https://colab.research.google.com/github/subha1625/Machine-Learning/blob/main/l1%2Cl2_regulization.ipynb\" target=\"_parent\"><img src=\"https://colab.research.google.com/assets/colab-badge.svg\" alt=\"Open In Colab\"/></a>"
      ]
    },
    {
      "cell_type": "code",
      "execution_count": null,
      "metadata": {
        "id": "brQfa-BO5yvy"
      },
      "outputs": [],
      "source": [
        "import matplotlib.pyplot as plt\n",
        "import numpy as np\n"
      ]
    },
    {
      "cell_type": "code",
      "source": [
        "x=np.array([1,2,3,4,5])\n",
        "y=np.array([2.1,3.8,6.5,9.2,11.3])"
      ],
      "metadata": {
        "id": "WmY5Qy7T-iMa"
      },
      "execution_count": null,
      "outputs": []
    },
    {
      "cell_type": "code",
      "source": [
        "x_b=np.c_[np.ones((x.shape[0],1)),x]"
      ],
      "metadata": {
        "id": "aG-NSX9Q_EVV"
      },
      "execution_count": null,
      "outputs": []
    },
    {
      "cell_type": "code",
      "source": [
        "x_b"
      ],
      "metadata": {
        "colab": {
          "base_uri": "https://localhost:8080/"
        },
        "id": "ZMmOxusL_n2a",
        "outputId": "64ccf938-3f5f-4242-f160-db99aaedac5d"
      },
      "execution_count": null,
      "outputs": [
        {
          "output_type": "execute_result",
          "data": {
            "text/plain": [
              "array([[1., 1.],\n",
              "       [1., 2.],\n",
              "       [1., 3.],\n",
              "       [1., 4.],\n",
              "       [1., 5.]])"
            ]
          },
          "metadata": {},
          "execution_count": 4
        }
      ]
    },
    {
      "cell_type": "code",
      "source": [
        "alpha_ridge=1.0\n",
        "alpha_lasso=0.1\n",
        "num_iterations=1000\n",
        "learning_rate=0.01"
      ],
      "metadata": {
        "id": "ZugwZfxl_qcR"
      },
      "execution_count": null,
      "outputs": []
    },
    {
      "cell_type": "code",
      "source": [
        "def lasso_regression(x,y,alpha,num_iterations,learning_rate):\n",
        "  m,n=x.shape\n",
        "  theta=np.zeros(n)\n",
        "  for _ in range(num_iterations):\n",
        "    y_pred=x.dot(theta)\n",
        "    gradient=(x.T.dot(y_pred-y)+alpha*np.sign(theta))/m\n",
        "    theta-=learning_rate*gradient\n",
        "  return theta\n"
      ],
      "metadata": {
        "id": "aaDdpAMoACzL"
      },
      "execution_count": null,
      "outputs": []
    },
    {
      "cell_type": "code",
      "source": [
        "def ridge_regression(x,y,alpha,num_iterations,learning_rate):\n",
        "  m,n=x.shape\n",
        "  theta=np.zeros(n)\n",
        "  for _ in range(num_iterations):\n",
        "    y_pred=x.dot(theta)\n",
        "    gradient=(x.T.dot(y_pred-y)+alpha*theta)/m\n",
        "    theta-=learning_rate*gradient\n",
        "  return theta\n"
      ],
      "metadata": {
        "id": "_ZSdPjFaByAi"
      },
      "execution_count": null,
      "outputs": []
    },
    {
      "cell_type": "code",
      "source": [
        "\n",
        "theta_ridge=ridge_regression(x_b,y,alpha_ridge,num_iterations,learning_rate)\n",
        "theta_lasso=lasso_regression(x_b,y,alpha_lasso,num_iterations,learning_rate)"
      ],
      "metadata": {
        "id": "7EzPBQ-LB9GE"
      },
      "execution_count": null,
      "outputs": []
    },
    {
      "cell_type": "code",
      "source": [
        "theta_ridge"
      ],
      "metadata": {
        "colab": {
          "base_uri": "https://localhost:8080/"
        },
        "id": "ze0K1M1MDi8U",
        "outputId": "9bdfb5cc-8a51-4e81-c28c-978164ff59a7"
      },
      "execution_count": null,
      "outputs": [
        {
          "output_type": "execute_result",
          "data": {
            "text/plain": [
              "array([0.05700254, 2.17211411])"
            ]
          },
          "metadata": {},
          "execution_count": 10
        }
      ]
    },
    {
      "cell_type": "code",
      "source": [
        "theta_lasso"
      ],
      "metadata": {
        "colab": {
          "base_uri": "https://localhost:8080/"
        },
        "id": "zZhg3d8PDmsF",
        "outputId": "e383f119-c263-4577-a2c4-cf41feea4abc"
      },
      "execution_count": null,
      "outputs": [
        {
          "output_type": "execute_result",
          "data": {
            "text/plain": [
              "array([-0.27352287,  2.29942818])"
            ]
          },
          "metadata": {},
          "execution_count": 11
        }
      ]
    },
    {
      "cell_type": "code",
      "source": [
        "plt.scatter(x,y,label='data')\n",
        "plt.plot(x,x_b.dot(theta_ridge),label=f'Ridge (L2) Regression',color='red')\n",
        "plt.plot(x,x_b.dot(theta_lasso),label=f'Lasso (L1) Regression',color='green')\n",
        "plt.xlabel('x')\n",
        "plt.ylabel('y')\n",
        "plt.legend()\n",
        "plt.show()\n"
      ],
      "metadata": {
        "colab": {
          "base_uri": "https://localhost:8080/",
          "height": 449
        },
        "id": "2Qznpk9VDwy1",
        "outputId": "74ae6469-4de0-4577-fbfa-95c117abe87f"
      },
      "execution_count": null,
      "outputs": [
        {
          "output_type": "display_data",
          "data": {
            "text/plain": [
              "<Figure size 640x480 with 1 Axes>"
            ],
            "image/png": "[encoded data removed]"
          },
          "metadata": {}
        }
      ]
    },
    {
      "cell_type": "code",
      "source": [],
      "metadata": {
        "id": "Dfg9Lbu8EfAl"
      },
      "execution_count": null,
      "outputs": []
    }
  ]
}